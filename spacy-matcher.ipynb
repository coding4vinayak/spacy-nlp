{
 "cells": [
  {
   "cell_type": "code",
   "execution_count": 1,
   "metadata": {},
   "outputs": [],
   "source": [
    "import spacy"
   ]
  },
  {
   "cell_type": "code",
   "execution_count": 2,
   "metadata": {},
   "outputs": [],
   "source": [
    "    from spacy.matcher import Matcher"
   ]
  },
  {
   "cell_type": "code",
   "execution_count": 3,
   "metadata": {},
   "outputs": [
    {
     "name": "stderr",
     "output_type": "stream",
     "text": [
      "/home/zeus/miniconda3/envs/cloudspace/lib/python3.10/site-packages/transformers/utils/generic.py:441: UserWarning: torch.utils._pytree._register_pytree_node is deprecated. Please use torch.utils._pytree.register_pytree_node instead.\n",
      "  _torch_pytree._register_pytree_node(\n",
      "/home/zeus/miniconda3/envs/cloudspace/lib/python3.10/site-packages/transformers/utils/generic.py:309: UserWarning: torch.utils._pytree._register_pytree_node is deprecated. Please use torch.utils._pytree.register_pytree_node instead.\n",
      "  _torch_pytree._register_pytree_node(\n"
     ]
    }
   ],
   "source": [
    "nlp = spacy.load(\"en_core_web_sm\")"
   ]
  },
  {
   "cell_type": "code",
   "execution_count": 4,
   "metadata": {},
   "outputs": [],
   "source": [
    "matcher = Matcher(nlp.vocab)\n",
    "pattern = [{\"LIKE_EMAIL\":True}]\n",
    "matcher.add(\"EMAIL_ADDRESS\", [pattern])\n"
   ]
  },
  {
   "cell_type": "code",
   "execution_count": 5,
   "metadata": {},
   "outputs": [],
   "source": [
    "doc = nlp(\"this is my email address : vinayak@hotmail.com\")\n",
    "matches = matcher(doc)"
   ]
  },
  {
   "cell_type": "code",
   "execution_count": 6,
   "metadata": {},
   "outputs": [
    {
     "name": "stdout",
     "output_type": "stream",
     "text": [
      "[(16571425990740197027, 6, 7)]\n"
     ]
    }
   ],
   "source": [
    "print(matches)"
   ]
  },
  {
   "cell_type": "code",
   "execution_count": 7,
   "metadata": {},
   "outputs": [
    {
     "name": "stdout",
     "output_type": "stream",
     "text": [
      "EMAIL_ADDRESS\n"
     ]
    }
   ],
   "source": [
    "print(nlp.vocab[matches[0][0]].text)"
   ]
  },
  {
   "cell_type": "code",
   "execution_count": null,
   "metadata": {},
   "outputs": [],
   "source": []
  },
  {
   "cell_type": "code",
   "execution_count": 34,
   "metadata": {},
   "outputs": [],
   "source": [
    "with open(\"/teamspace/studios/this_studio/tryst-with-destiny.txt\", \"r\")as f:\n",
    "    text = f.read()"
   ]
  },
  {
   "cell_type": "code",
   "execution_count": 35,
   "metadata": {},
   "outputs": [
    {
     "name": "stdout",
     "output_type": "stream",
     "text": [
      "\n",
      "jawaharlal neharu to people Long years ago we made a tryst with destiny, and now the time comes when we shall redeem our pledge, not wholly or in full measure, but very substantially. At the stroke of the midnight hour, when the world sleeps, India will awake to life and freedom. A moment comes, which comes but rarely in history, when we step out from the old to the new, when an age ends, and when the soul of a nation, long suppressed, finds utterance. It is fitting that at this solemn moment we take the pledge of dedication to the service of India and her people and to the still larger cause of humanity.\n",
      "\n",
      "At the dawn of history India started on her unending quest, and trackless centuries are filled with her striving and the grandeur of her success and her failures. Through good and ill fortune alike she has never lost sight of that quest or forgotten the ideals which gave her strength. We end today a period of ill fortune and India discovers herself again.\n",
      "\n",
      "The achievement we celebrate today is but a step, an opening of opportunity, to the greater triumphs and achievements that await us. Are we brave enough and wise enough to grasp this opportunity and accept the challenge of the future?\n",
      "\n",
      "Freedom and power bring responsibility. That responsibility rests upon this Assembly, a sovereign body representing the sovereign people of India. Before the birth of freedom we have endured all the pains of labour and our hearts are heavy with the memory of this sorrow. Some of those pains continue even now. Nevertheless, the past is over and it is the future that beckons to us now.\n",
      "\n",
      "That future is not one of ease or resting but of incessant striving so that we may fulfil the pledges we have so often taken and the one we shall take today. The service of India means the service of the millions who suffer. It means the ending of poverty and ignorance and disease and inequality of opportunity. The ambition of the greatest man of our generation has been to wipe every tear from every eye. That may be beyond us, but as long as there are tears and suffering, so long our work will not be over.\n",
      "\n",
      "And so we have to labour and to work, and work hard, to give reality to our dreams. Those dreams are for India, but they are also for the world, for all the nations and peoples are too closely knit together today for any one of them to imagine that it can live apart. Peace has been said to be indivisible; so is freedom, so is prosperity now, and so also is disaster in this one world that can no longer be split into isolated fragments.\n",
      "\n",
      "To the people of India, whose representatives we are, we make an appeal to join us with faith and confidence in this great adventure. This is no time for petty and destructive criticism, no time for ill-will or blaming others. We have to build the noble mansion of free India where all her children may dwell.\n",
      "\n",
      "The appointed day has come – the day appointed by destiny – and India stands forth again, after long slumber and struggle, awake, vital, free and independent. The past clings on to us still in some measure and we have to do much before we redeem the pledges we have so often taken. Yet the turning point is past, and history begins anew for us, the history which we shall live and act and others will write about.\n",
      "\n",
      "It is a fateful moment for us in India, for all Asia and for the world. A new star rises, the star of freedom in the East, a new hope comes into being, a vision long cherished materializes. May the star never set and that hope never be betrayed!\n",
      "\n",
      "We rejoice in that freedom, even though clouds surround us, and many of our people are sorrow-stricken and difficult problems encompass us. But freedom brings responsibilities and burdens and we have to face them in the spirit of a free and disciplined people.\n",
      "\n",
      "On this day our first thoughts go to the architect of this freedom, the Father of our Nation, who, embodying the old spirit of India, held aloft the torch of freedom and lighted up the darkness that surrounded us. We have often been unworthy followers of his and have strayed from his message, but not only we but succeeding generations will remember this message and bear the imprint in their hearts of this great son of India, magnificent in his faith and strength and courage and humility. We shall never allow that torch of freedom to be blown out, however high the wind or stormy the tempest.\n",
      "\n",
      "Our next thoughts must be of the unknown volunteers and soldiers of freedom who, without praise or reward, have served India even unto death.\n",
      "\n",
      "We think also of our brothers and sisters who have been cut off from us by political boundaries and who unhappily cannot share at present in the freedom that has come. They are of us and will remain of us whatever may happen, and we shall be sharers in their good and ill fortune alike.\n",
      "\n",
      "The future beckons to us. Whither do we go and what shall be our endeavour? To bring freedom and opportunity to the common man, to the peasants and workers of India; to fight and end poverty and ignorance and disease; to build up a prosperous, democratic and progressive nation, and to create social, economic and political institutions which will ensure justice and fullness of life to every man and woman.\n",
      "\n",
      "We have hard work ahead. There is no resting for any one of us till we redeem our pledge in full, till we make all the people of India what destiny intended them to be. We are citizens of a great country on the verge of bold advance, and we have to live up to that high standard. All of us, to whatever religion we may belong, are equally the children of India with equal rights, privileges and obligations. We cannot encourage communalism or narrow-mindedness, for no nation can be great whose people are narrow in thought or in action.\n",
      "\n",
      "To the nations and peoples of the world we send greetings and pledge ourselves to cooperate with them in furthering peace, freedom and democracy.\n",
      "\n",
      "And to India, our much-loved motherland, the ancient, the eternal and the ever-new, we pay our reverent homage and we bind ourselves afresh to her service.\n",
      "\n",
      "Jai Hind.\n",
      "\n",
      "\n"
     ]
    }
   ],
   "source": [
    "print(text)"
   ]
  },
  {
   "cell_type": "code",
   "execution_count": 36,
   "metadata": {},
   "outputs": [],
   "source": [
    "nlp = spacy.load(\"en_core_web_sm\")  # you can use  transformer model here and other  spacy models\n"
   ]
  },
  {
   "cell_type": "code",
   "execution_count": 37,
   "metadata": {},
   "outputs": [
    {
     "name": "stdout",
     "output_type": "stream",
     "text": [
      "27\n",
      "(451313080118390996, 1, 2) jawaharlal\n",
      "(451313080118390996, 51, 52) India\n",
      "(451313080118390996, 118, 119) India\n",
      "(451313080118390996, 137, 138) India\n",
      "(451313080118390996, 194, 195) India\n",
      "(451313080118390996, 245, 246) Freedom\n",
      "(451313080118390996, 256, 257) Assembly\n",
      "(451313080118390996, 266, 267) India\n",
      "(451313080118390996, 355, 356) India\n",
      "(451313080118390996, 450, 451) India\n",
      "(451313080118390996, 526, 527) India\n",
      "(451313080118390996, 578, 579) India\n",
      "(451313080118390996, 600, 601) India\n",
      "(451313080118390996, 683, 684) India\n",
      "(451313080118390996, 687, 688) Asia\n",
      "(451313080118390996, 704, 705) East\n",
      "(451313080118390996, 797, 798) Father\n",
      "(451313080118390996, 800, 801) Nation\n",
      "(451313080118390996, 809, 810) India\n",
      "(451313080118390996, 864, 865) India\n",
      "(451313080118390996, 922, 923) India\n",
      "(451313080118390996, 1021, 1022) India\n",
      "(451313080118390996, 1098, 1099) India\n",
      "(451313080118390996, 1147, 1148) India\n",
      "(451313080118390996, 1212, 1213) India\n",
      "(451313080118390996, 1246, 1247) Jai\n",
      "(451313080118390996, 1247, 1248) Hind\n"
     ]
    }
   ],
   "source": [
    "matcher = Matcher(nlp.vocab)\n",
    "pattern = [{\"POS\": \"PROPN\"}]\n",
    "matcher.add(\"PROPER_NOUN\", [pattern])\n",
    "doc = nlp(text)\n",
    "matches = matcher(doc)\n",
    "print(len(matches))\n",
    "for match in matches[:100]:\n",
    "    print(match, doc[match[1]:match[2]])"
   ]
  },
  {
   "cell_type": "code",
   "execution_count": 38,
   "metadata": {},
   "outputs": [
    {
     "name": "stdout",
     "output_type": "stream",
     "text": [
      "28\n",
      "(451313080118390996, 1, 2) jawaharlal\n",
      "(451313080118390996, 51, 52) India\n",
      "(451313080118390996, 118, 119) India\n",
      "(451313080118390996, 137, 138) India\n",
      "(451313080118390996, 194, 195) India\n",
      "(451313080118390996, 245, 246) Freedom\n",
      "(451313080118390996, 256, 257) Assembly\n",
      "(451313080118390996, 266, 267) India\n",
      "(451313080118390996, 355, 356) India\n",
      "(451313080118390996, 450, 451) India\n",
      "(451313080118390996, 526, 527) India\n",
      "(451313080118390996, 578, 579) India\n",
      "(451313080118390996, 600, 601) India\n",
      "(451313080118390996, 683, 684) India\n",
      "(451313080118390996, 687, 688) Asia\n",
      "(451313080118390996, 704, 705) East\n",
      "(451313080118390996, 797, 798) Father\n",
      "(451313080118390996, 800, 801) Nation\n",
      "(451313080118390996, 809, 810) India\n",
      "(451313080118390996, 864, 865) India\n",
      "(451313080118390996, 922, 923) India\n",
      "(451313080118390996, 1021, 1022) India\n",
      "(451313080118390996, 1098, 1099) India\n",
      "(451313080118390996, 1147, 1148) India\n",
      "(451313080118390996, 1212, 1213) India\n",
      "(451313080118390996, 1246, 1247) Jai\n",
      "(451313080118390996, 1246, 1248) Jai Hind\n",
      "(451313080118390996, 1247, 1248) Hind\n"
     ]
    }
   ],
   "source": [
    "matcher = Matcher(nlp.vocab)\n",
    "pattern = [{\"POS\": \"PROPN\", \"OP\": \"+\"}]\n",
    "matcher.add(\"PROPER_NOUN\", [pattern])\n",
    "doc = nlp(text)\n",
    "matches = matcher(doc)\n",
    "print(len(matches))\n",
    "for match in matches[:100]:\n",
    "    print(match, doc[match[1]:match[2]])"
   ]
  },
  {
   "cell_type": "code",
   "execution_count": 42,
   "metadata": {},
   "outputs": [
    {
     "name": "stdout",
     "output_type": "stream",
     "text": [
      "26\n",
      "(451313080118390996, 704, 705) East\n",
      "(451313080118390996, 797, 798) Father\n",
      "(451313080118390996, 800, 801) Nation\n",
      "(451313080118390996, 809, 810) India\n",
      "(451313080118390996, 864, 865) India\n",
      "(451313080118390996, 922, 923) India\n",
      "(451313080118390996, 1021, 1022) India\n",
      "(451313080118390996, 1098, 1099) India\n",
      "(451313080118390996, 1147, 1148) India\n",
      "(451313080118390996, 1212, 1213) India\n"
     ]
    }
   ],
   "source": [
    "matcher = Matcher(nlp.vocab)\n",
    "pattern = [{\"POS\": \"PROPN\", \"OP\": \"+\"}]\n",
    "matcher.add(\"PROPER_NOUN\", [pattern], greedy=\"LONGEST\")\n",
    "doc = nlp(text)\n",
    "matches = matcher(doc)\n",
    "print(len(matches))\n",
    "for match in matches[-10:100]:\n",
    "    print(match, doc[match[1]:match[2]])"
   ]
  },
  {
   "cell_type": "code",
   "execution_count": 12,
   "metadata": {},
   "outputs": [
    {
     "name": "stdout",
     "output_type": "stream",
     "text": [
      "38\n",
      "(451313080118390996, 2, 3) Destiny\n",
      "(451313080118390996, 9, 11) Jawaharlal Nehru\n",
      "(451313080118390996, 14, 16) Prime Minister\n",
      "(451313080118390996, 18, 19) India\n",
      "(451313080118390996, 22, 25) Indian Constituent Assembly\n",
      "(451313080118390996, 27, 28) Parliament\n",
      "(451313080118390996, 33, 34) India\n",
      "(451313080118390996, 35, 36) Independence\n",
      "(451313080118390996, 41, 42) August\n",
      "(451313080118390996, 54, 55) Tryst\n"
     ]
    }
   ],
   "source": [
    "matcher = Matcher(nlp.vocab)\n",
    "pattern = [{\"POS\": \"PROPN\", \"OP\": \"+\"}]\n",
    "matcher.add(\"PROPER_NOUN\", [pattern], greedy=\"LONGEST\")\n",
    "doc = nlp(text)\n",
    "matches = matcher(doc)\n",
    "matches.sort(key = lambda x: x[1])\n",
    "print(len(matches))\n",
    "for match in matches[:10]:\n",
    "    print(match, doc[match[1]:match[2]])"
   ]
  },
  {
   "cell_type": "code",
   "execution_count": 16,
   "metadata": {},
   "outputs": [
    {
     "name": "stdout",
     "output_type": "stream",
     "text": [
      "4\n",
      "(451313080118390996, 199, 201) India started\n",
      "(451313080118390996, 256, 258) India discovers\n",
      "(451313080118390996, 417, 419) India means\n",
      "(451313080118390996, 662, 664) India stands\n"
     ]
    }
   ],
   "source": [
    "# nount plusw verb\n",
    "\n",
    "matcher = Matcher(nlp.vocab)\n",
    "pattern = [{\"POS\": \"PROPN\", \"OP\": \"+\"}, {\"POS\":\"VERB\"}]\n",
    "matcher.add(\"PROPER_NOUN\", [pattern], greedy=\"LONGEST\")\n",
    "doc = nlp(text)\n",
    "matches = matcher(doc)\n",
    "matches.sort(key = lambda x: x[1])\n",
    "print(len(matches))\n",
    "for match in matches[:100]:\n",
    "    print(match, doc[match[1]:match[2]])"
   ]
  },
  {
   "cell_type": "code",
   "execution_count": 43,
   "metadata": {},
   "outputs": [],
   "source": [
    "with open(\"/teamspace/studios/this_studio/COVID.TXT\",\"r\") as f:\n",
    "    text = f.read()"
   ]
  },
  {
   "cell_type": "code",
   "execution_count": 44,
   "metadata": {},
   "outputs": [
    {
     "name": "stdout",
     "output_type": "stream",
     "text": [
      "The origin of COVID-19, caused by the SARS-CoV-2 virus, remains a subject of investigation and debate. The virus was first identified in Wuhan, China, in December 2019, with many early cases linked to the Huanan Seafood Wholesale Market, suggesting a zoonotic spillover. The prevailing theory is that SARS-CoV-2 originated in bats and possibly spread to humans via an intermediate host such as pangolins, supported by significant genetic similarities with bat coronaviruses. However, the lab leak theory, proposing that the virus accidentally escaped from a laboratory in Wuhan, has also been considered, although there is no conclusive evidence to support this hypothesis. Ongoing research aims to clarify the exact origins of the virus to better understand and prevent future pandemics.\n"
     ]
    }
   ],
   "source": [
    "print(text) #hi"
   ]
  },
  {
   "cell_type": "code",
   "execution_count": null,
   "metadata": {},
   "outputs": [],
   "source": []
  }
 ],
 "metadata": {
  "kernelspec": {
   "display_name": "cloudspace",
   "language": "python",
   "name": "python3"
  },
  "language_info": {
   "codemirror_mode": {
    "name": "ipython",
    "version": 3
   },
   "file_extension": ".py",
   "mimetype": "text/x-python",
   "name": "python",
   "nbconvert_exporter": "python",
   "pygments_lexer": "ipython3",
   "version": "3.10.10"
  }
 },
 "nbformat": 4,
 "nbformat_minor": 2
}
