{
 "cells": [
  {
   "cell_type": "code",
   "execution_count": 1,
   "metadata": {},
   "outputs": [
    {
     "name": "stdout",
     "output_type": "stream",
     "text": [
      "Collecting pytube\n",
      "  Downloading pytube-15.0.0-py3-none-any.whl.metadata (5.0 kB)\n",
      "Downloading pytube-15.0.0-py3-none-any.whl (57 kB)\n",
      "\u001b[2K   \u001b[90m━━━━━━━━━━━━━━━━━━━━━━━━━━━━━━━━━━━━━━━━\u001b[0m \u001b[32m57.6/57.6 kB\u001b[0m \u001b[31m3.0 MB/s\u001b[0m eta \u001b[36m0:00:00\u001b[0m\n",
      "\u001b[?25hInstalling collected packages: pytube\n",
      "Successfully installed pytube-15.0.0\n"
     ]
    }
   ],
   "source": [
    "! pip install pytube"
   ]
  },
  {
   "cell_type": "code",
   "execution_count": null,
   "metadata": {},
   "outputs": [],
   "source": [
    "f#ile = \"https://www.youtube.com/watch?v=wNlAuDx_pfI\"\n",
    "\n"
   ]
  },
  {
   "cell_type": "code",
   "execution_count": 2,
   "metadata": {},
   "outputs": [
    {
     "name": "stdout",
     "output_type": "stream",
     "text": [
      "Downloading 7 Days to a Beautiful Voice (Vocal Coaching Lesson)...\n",
      "Downloaded 7 Days to a Beautiful Voice (Vocal Coaching Lesson) successfully!\n"
     ]
    }
   ],
   "source": [
    "from pytube import YouTube\n",
    "\n",
    "def download_youtube_video(video_url, output_path='.'):\n",
    "    try:\n",
    "        # Create a YouTube object\n",
    "        yt = YouTube(video_url)\n",
    "\n",
    "        # Get the highest resolution stream available\n",
    "        stream = yt.streams.get_highest_resolution()\n",
    "\n",
    "        # Download the video\n",
    "        print(f\"Downloading {yt.title}...\")\n",
    "        stream.download(output_path)\n",
    "        print(f\"Downloaded {yt.title} successfully!\")\n",
    "    except Exception as e:\n",
    "        print(f\"An error occurred: {e}\")\n",
    "\n",
    "if __name__ == \"__main__\":\n",
    "    # Example YouTube URL\n",
    "    video_url = \"https://www.youtube.com/watch?v=wNlAuDx_pfI\"\n",
    "    download_youtube_video(video_url)\n"
   ]
  },
  {
   "cell_type": "code",
   "execution_count": 3,
   "metadata": {},
   "outputs": [
    {
     "name": "stdout",
     "output_type": "stream",
     "text": [
      "Collecting moviepy\n",
      "  Downloading moviepy-1.0.3.tar.gz (388 kB)\n",
      "\u001b[2K     \u001b[90m━━━━━━━━━━━━━━━━━━━━━━━━━━━━━━━━━━━━━━\u001b[0m \u001b[32m388.3/388.3 kB\u001b[0m \u001b[31m14.0 MB/s\u001b[0m eta \u001b[36m0:00:00\u001b[0m\n",
      "\u001b[?25h  Preparing metadata (setup.py) ... \u001b[?25ldone\n",
      "\u001b[?25hCollecting decorator<5.0,>=4.0.2 (from moviepy)\n",
      "  Downloading decorator-4.4.2-py2.py3-none-any.whl.metadata (4.2 kB)\n",
      "Requirement already satisfied: tqdm<5.0,>=4.11.2 in /system/conda/miniconda3/envs/cloudspace/lib/python3.10/site-packages (from moviepy) (4.66.4)\n",
      "Requirement already satisfied: requests<3.0,>=2.8.1 in /system/conda/miniconda3/envs/cloudspace/lib/python3.10/site-packages (from moviepy) (2.32.3)\n",
      "Collecting proglog<=1.0.0 (from moviepy)\n",
      "  Downloading proglog-0.1.10-py3-none-any.whl.metadata (639 bytes)\n",
      "Requirement already satisfied: numpy>=1.17.3 in /system/conda/miniconda3/envs/cloudspace/lib/python3.10/site-packages (from moviepy) (1.26.2)\n",
      "Collecting imageio<3.0,>=2.5 (from moviepy)\n",
      "  Downloading imageio-2.34.1-py3-none-any.whl.metadata (4.9 kB)\n",
      "Collecting imageio_ffmpeg>=0.2.0 (from moviepy)\n",
      "  Downloading imageio_ffmpeg-0.5.0-py3-none-manylinux2010_x86_64.whl.metadata (1.6 kB)\n",
      "Requirement already satisfied: pillow>=8.3.2 in /system/conda/miniconda3/envs/cloudspace/lib/python3.10/site-packages (from imageio<3.0,>=2.5->moviepy) (10.3.0)\n",
      "Requirement already satisfied: setuptools in /system/conda/miniconda3/envs/cloudspace/lib/python3.10/site-packages (from imageio_ffmpeg>=0.2.0->moviepy) (70.0.0)\n",
      "Requirement already satisfied: charset-normalizer<4,>=2 in /system/conda/miniconda3/envs/cloudspace/lib/python3.10/site-packages (from requests<3.0,>=2.8.1->moviepy) (3.3.2)\n",
      "Requirement already satisfied: idna<4,>=2.5 in /system/conda/miniconda3/envs/cloudspace/lib/python3.10/site-packages (from requests<3.0,>=2.8.1->moviepy) (3.7)\n",
      "Requirement already satisfied: urllib3<3,>=1.21.1 in /system/conda/miniconda3/envs/cloudspace/lib/python3.10/site-packages (from requests<3.0,>=2.8.1->moviepy) (2.2.1)\n",
      "Requirement already satisfied: certifi>=2017.4.17 in /system/conda/miniconda3/envs/cloudspace/lib/python3.10/site-packages (from requests<3.0,>=2.8.1->moviepy) (2024.2.2)\n",
      "Downloading decorator-4.4.2-py2.py3-none-any.whl (9.2 kB)\n",
      "Downloading imageio-2.34.1-py3-none-any.whl (313 kB)\n",
      "\u001b[2K   \u001b[90m━━━━━━━━━━━━━━━━━━━━━━━━━━━━━━━━━━━━━━━━\u001b[0m \u001b[32m313.5/313.5 kB\u001b[0m \u001b[31m14.3 MB/s\u001b[0m eta \u001b[36m0:00:00\u001b[0m\n",
      "\u001b[?25hDownloading imageio_ffmpeg-0.5.0-py3-none-manylinux2010_x86_64.whl (26.9 MB)\n",
      "\u001b[2K   \u001b[90m━━━━━━━━━━━━━━━━━━━━━━━━━━━━━━━━━━━━━━━━\u001b[0m \u001b[32m26.9/26.9 MB\u001b[0m \u001b[31m58.6 MB/s\u001b[0m eta \u001b[36m0:00:00\u001b[0m:00:01\u001b[0m00:01\u001b[0m\n",
      "\u001b[?25hDownloading proglog-0.1.10-py3-none-any.whl (6.1 kB)\n",
      "Building wheels for collected packages: moviepy\n",
      "  Building wheel for moviepy (setup.py) ... \u001b[?25ldone\n",
      "\u001b[?25h  Created wheel for moviepy: filename=moviepy-1.0.3-py3-none-any.whl size=110721 sha256=40e7e4ac61e4d273572c942ea69608da294b40808f26f38a25195e27a8939b6c\n",
      "  Stored in directory: /home/zeus/.cache/pip/wheels/96/32/2d/e10123bd88fbfc02fed53cc18c80a171d3c87479ed845fa7c1\n",
      "Successfully built moviepy\n",
      "Installing collected packages: proglog, imageio_ffmpeg, imageio, decorator, moviepy\n",
      "  Attempting uninstall: decorator\n",
      "    Found existing installation: decorator 5.1.1\n",
      "    Uninstalling decorator-5.1.1:\n",
      "      Successfully uninstalled decorator-5.1.1\n",
      "Successfully installed decorator-4.4.2 imageio-2.34.1 imageio_ffmpeg-0.5.0 moviepy-1.0.3 proglog-0.1.10\n"
     ]
    }
   ],
   "source": [
    "! pip install moviepy\n"
   ]
  },
  {
   "cell_type": "code",
   "execution_count": 5,
   "metadata": {},
   "outputs": [
    {
     "name": "stdout",
     "output_type": "stream",
     "text": [
      "MoviePy - Writing audio in output_audio.mp3\n"
     ]
    },
    {
     "name": "stderr",
     "output_type": "stream",
     "text": [
      "chunk:   0%|          | 107/39668 [00:00<00:37, 1068.11it/s, now=None]"
     ]
    },
    {
     "name": "stderr",
     "output_type": "stream",
     "text": [
      "                                                                        "
     ]
    },
    {
     "name": "stdout",
     "output_type": "stream",
     "text": [
      "MoviePy - Done.\n",
      "Audio successfully extracted to output_audio.mp3\n"
     ]
    },
    {
     "name": "stderr",
     "output_type": "stream",
     "text": [
      "\r"
     ]
    }
   ],
   "source": [
    "from moviepy.editor import VideoFileClip\n",
    "\n",
    "def extract_audio(video_path, output_audio_path):\n",
    "    try:\n",
    "        # Load the video file\n",
    "        video = VideoFileClip(video_path)\n",
    "\n",
    "        # Extract the audio\n",
    "        audio = video.audio\n",
    "\n",
    "        # Write the audio to a file\n",
    "        audio.write_audiofile(output_audio_path)\n",
    "        print(f\"Audio successfully extracted to {output_audio_path}\")\n",
    "    except Exception as e:\n",
    "        print(f\"An error occurred: {e}\")\n",
    "\n",
    "if __name__ == \"__main__\":\n",
    "    # Example video file path\n",
    "    video_path = \"/teamspace/studios/this_studio/7 Days to a Beautiful Voice (Vocal Coaching Lesson).mp4\"\n",
    "    # Output audio file path\n",
    "    output_audio_path = \"youtube.mp3\"\n",
    "    \n",
    "    extract_audio(video_path, output_audio_path)\n"
   ]
  },
  {
   "cell_type": "code",
   "execution_count": 6,
   "metadata": {},
   "outputs": [
    {
     "name": "stdout",
     "output_type": "stream",
     "text": [
      "Collecting pydub\n",
      "  Downloading pydub-0.25.1-py2.py3-none-any.whl.metadata (1.4 kB)\n",
      "Collecting mutagen\n",
      "  Downloading mutagen-1.47.0-py3-none-any.whl.metadata (1.7 kB)\n",
      "Downloading pydub-0.25.1-py2.py3-none-any.whl (32 kB)\n",
      "Downloading mutagen-1.47.0-py3-none-any.whl (194 kB)\n",
      "\u001b[2K   \u001b[90m━━━━━━━━━━━━━━━━━━━━━━━━━━━━━━━━━━━━━━━━\u001b[0m \u001b[32m194.4/194.4 kB\u001b[0m \u001b[31m12.3 MB/s\u001b[0m eta \u001b[36m0:00:00\u001b[0m\n",
      "\u001b[?25hInstalling collected packages: pydub, mutagen\n",
      "Successfully installed mutagen-1.47.0 pydub-0.25.1\n"
     ]
    }
   ],
   "source": [
    "! pip install pydub mutagen\n"
   ]
  },
  {
   "cell_type": "code",
   "execution_count": 8,
   "metadata": {},
   "outputs": [
    {
     "name": "stdout",
     "output_type": "stream",
     "text": [
      "An error occurred: [Errno 2] No such file or directory: 'ffprobe'\n"
     ]
    }
   ],
   "source": [
    "from pydub import AudioSegment\n",
    "from mutagen import File\n",
    "\n",
    "def get_audio_details(audio_path):\n",
    "    try:\n",
    "        # Load the audio file using pydub\n",
    "        audio = AudioSegment.from_file(audio_path)\n",
    "\n",
    "        # Get basic audio properties using pydub\n",
    "        duration = len(audio) / 1000  # duration in seconds\n",
    "        channels = audio.channels\n",
    "        frame_rate = audio.frame_rate\n",
    "        sample_width = audio.sample_width  # in bytes\n",
    "        bit_rate = audio.frame_rate * audio.sample_width * 8  # in bits per second\n",
    "\n",
    "        # Load the audio file using mutagen to get additional metadata\n",
    "        audio_file = File(audio_path)\n",
    "        metadata = audio_file.info\n",
    "\n",
    "        # Print the details\n",
    "        print(f\"Audio File: {audio_path}\")\n",
    "        print(f\"Duration: {duration:.2f} seconds\")\n",
    "        print(f\"Channels: {channels}\")\n",
    "        print(f\"Frame Rate (Sample Rate): {frame_rate} Hz\")\n",
    "        print(f\"Sample Width: {sample_width} bytes\")\n",
    "        print(f\"Bit Rate: {bit_rate} bits per second\")\n",
    "\n",
    "        # Print additional metadata if available\n",
    "        if metadata:\n",
    "            print(f\"Additional Metadata: {metadata}\")\n",
    "\n",
    "    except Exception as e:\n",
    "        print(f\"An error occurred: {e}\")\n",
    "\n",
    "if __name__ == \"__main__\":\n",
    "    # Example audio file path\n",
    "    audio_path = input(\"/teamspace/studios/this_studio/output_audio.mp3\")\n",
    "    get_audio_details(audio_path)\n"
   ]
  }
 ],
 "metadata": {
  "kernelspec": {
   "display_name": "cloudspace",
   "language": "python",
   "name": "python3"
  },
  "language_info": {
   "codemirror_mode": {
    "name": "ipython",
    "version": 3
   },
   "file_extension": ".py",
   "mimetype": "text/x-python",
   "name": "python",
   "nbconvert_exporter": "python",
   "pygments_lexer": "ipython3",
   "version": "3.10.10"
  }
 },
 "nbformat": 4,
 "nbformat_minor": 2
}
